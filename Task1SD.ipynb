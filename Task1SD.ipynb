{
  "nbformat": 4,
  "nbformat_minor": 0,
  "metadata": {
    "colab": {
      "provenance": [],
      "authorship_tag": "ABX9TyOUU2T3tf09EeiOSgSpFfjk",
      "include_colab_link": true
    },
    "kernelspec": {
      "name": "python3",
      "display_name": "Python 3"
    },
    "language_info": {
      "name": "python"
    }
  },
  "cells": [
    {
      "cell_type": "markdown",
      "metadata": {
        "id": "view-in-github",
        "colab_type": "text"
      },
      "source": [
        "<a href=\"https://colab.research.google.com/github/MariamMoawed/PRODIGY_SD_TASK01/blob/main/Task1SD.ipynb\" target=\"_parent\"><img src=\"https://colab.research.google.com/assets/colab-badge.svg\" alt=\"Open In Colab\"/></a>"
      ]
    },
    {
      "cell_type": "markdown",
      "source": [
        "create a program that converts temperatures between Celsius, Fahrenheit, and Kelvin"
      ],
      "metadata": {
        "id": "5top5_cEOTIP"
      }
    },
    {
      "cell_type": "code",
      "execution_count": 1,
      "metadata": {
        "colab": {
          "base_uri": "https://localhost:8080/"
        },
        "id": "O0g30GHdOMKx",
        "outputId": "7ba19291-bbbb-43d9-9ec5-7c960223ba2d"
      },
      "outputs": [
        {
          "output_type": "stream",
          "name": "stdout",
          "text": [
            "Enter the temperature value: 23\n",
            "Enter the unit (Celsius, Fahrenheit, Kelvin): Kelvin\n",
            "23.0 Kelvin is -250.14999999999998° Celsius.\n",
            "23.0 Kelvin is -418.27° Fahrenheit.\n"
          ]
        }
      ],
      "source": [
        "# Define functions for temperature conversion\n",
        "def celsius_to_fahrenheit(celsius):\n",
        "    return (celsius * 9/5) + 32\n",
        "\n",
        "def celsius_to_kelvin(celsius):\n",
        "    return celsius + 273.15\n",
        "\n",
        "def fahrenheit_to_celsius(fahrenheit):\n",
        "    return (fahrenheit - 32) * 5/9\n",
        "\n",
        "def fahrenheit_to_kelvin(fahrenheit):\n",
        "    return (fahrenheit - 32) * 5/9 + 273.15\n",
        "\n",
        "def kelvin_to_celsius(kelvin):\n",
        "    return kelvin - 273.15\n",
        "\n",
        "def kelvin_to_fahrenheit(kelvin):\n",
        "    return (kelvin - 273.15) * 9/5 + 32\n",
        "\n",
        "# Prompt the user for input\n",
        "temperature = float(input(\"Enter the temperature value: \"))\n",
        "unit = input(\"Enter the unit (Celsius, Fahrenheit, Kelvin): \").lower()\n",
        "\n",
        "# Perform the conversion based on the unit\n",
        "if unit == \"celsius\":\n",
        "    print(f\"{temperature}° Celsius is {celsius_to_fahrenheit(temperature)}° Fahrenheit.\")\n",
        "    print(f\"{temperature}° Celsius is {celsius_to_kelvin(temperature)} Kelvin.\")\n",
        "elif unit == \"fahrenheit\":\n",
        "    print(f\"{temperature}° Fahrenheit is {fahrenheit_to_celsius(temperature)}° Celsius.\")\n",
        "    print(f\"{temperature}° Fahrenheit is {fahrenheit_to_kelvin(temperature)} Kelvin.\")\n",
        "elif unit == \"kelvin\":\n",
        "    print(f\"{temperature} Kelvin is {kelvin_to_celsius(temperature)}° Celsius.\")\n",
        "    print(f\"{temperature} Kelvin is {kelvin_to_fahrenheit(temperature)}° Fahrenheit.\")\n",
        "else:\n",
        "    print(\"Invalid unit. Please enter Celsius, Fahrenheit, or Kelvin.\")\n",
        "\n"
      ]
    }
  ]
}